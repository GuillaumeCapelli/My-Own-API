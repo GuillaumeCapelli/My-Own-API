{
 "cells": [
  {
   "cell_type": "code",
   "execution_count": 7,
   "id": "b15bd7c3",
   "metadata": {},
   "outputs": [],
   "source": [
    "import pymysql\n",
    "import os\n",
    "\n",
    "db_conn = pymysql.connect(\n",
    "    host=\"localhost\",\n",
    "    user=\"root\", # add also password=\"yourpassword\" if you have set up a password on your MySQL database\n",
    "    password=os.getenv(\"MySQL_password\"),\n",
    "    database=\"classicmodels\",\n",
    "    cursorclass=pymysql.cursors.DictCursor  # This makes pymysql return the result in a nice dictionary form\n",
    ")\n",
    "\n",
    "# A cursor is an object that we can execute query on and that will handle data fetching for us.\n",
    "# NB: A cursor is specific to on query and should NOT be reused for another query.\n",
    "#\n",
    "# The `with` block is a handy way of automatically making the cursor close as soon as we exit the block\n",
    "with db_conn.cursor() as cursor:\n",
    "    cursor.execute(\"SELECT * FROM customers LIMIT 1\")\n",
    "    # Here `fetchone` retrieves only the first row from the results (in the form of a dictionary).\n",
    "    # So we should only use it with queries that return 1 row (otherwise we would waste time querying multiple\n",
    "    # rows and throwing them away).\n",
    "    result = cursor.fetchone()\n",
    "    \n",
    "# Don't forget to close the connection as soon as you finished. Otherwise, it will unnecessarily use\n",
    "# resources on the MySQL database.\n",
    "db_conn.close()"
   ]
  },
  {
   "cell_type": "code",
   "execution_count": 8,
   "id": "f4e6fb86",
   "metadata": {},
   "outputs": [
    {
     "data": {
      "text/plain": [
       "{'customerNumber': 103,\n",
       " 'customerName': 'Atelier graphique',\n",
       " 'contactLastName': 'Schmitt',\n",
       " 'contactFirstName': 'Carine ',\n",
       " 'phone': '40.32.2555',\n",
       " 'addressLine1': '54, rue Royale',\n",
       " 'addressLine2': None,\n",
       " 'city': 'Nantes',\n",
       " 'state': None,\n",
       " 'postalCode': '44000',\n",
       " 'country': 'France',\n",
       " 'salesRepEmployeeNumber': 1370,\n",
       " 'creditLimit': Decimal('21000.00')}"
      ]
     },
     "execution_count": 8,
     "metadata": {},
     "output_type": "execute_result"
    }
   ],
   "source": [
    "result"
   ]
  }
 ],
 "metadata": {
  "kernelspec": {
   "display_name": "Python 3 (ipykernel)",
   "language": "python",
   "name": "python3"
  },
  "language_info": {
   "codemirror_mode": {
    "name": "ipython",
    "version": 3
   },
   "file_extension": ".py",
   "mimetype": "text/x-python",
   "name": "python",
   "nbconvert_exporter": "python",
   "pygments_lexer": "ipython3",
   "version": "3.10.9"
  }
 },
 "nbformat": 4,
 "nbformat_minor": 5
}
